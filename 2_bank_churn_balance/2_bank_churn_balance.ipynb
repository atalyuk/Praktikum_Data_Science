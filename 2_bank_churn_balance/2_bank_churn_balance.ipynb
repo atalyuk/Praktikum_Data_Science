{
 "cells": [
  {
   "cell_type": "markdown",
   "metadata": {},
   "source": [
    "# Отток клиентов"
   ]
  },
  {
   "cell_type": "markdown",
   "metadata": {},
   "source": [
    "Из «Бета-Банка» стали уходить клиенты. Каждый месяц. Немного, но заметно. Банковские маркетологи посчитали: сохранять текущих клиентов дешевле, чем привлекать новых.\n",
    "\n",
    "Нужно спрогнозировать, уйдёт клиент из банка в ближайшее время или нет. Вам предоставлены исторические данные о поведении клиентов и расторжении договоров с банком. \n",
    "\n",
    "Построим модель с предельно большим значением *F1*-меры. \n",
    "\n",
    "Источник данных: [https://www.kaggle.com/barelydedicated/bank-customer-churn-modeling](https://www.kaggle.com/barelydedicated/bank-customer-churn-modeling)"
   ]
  },
  {
   "cell_type": "markdown",
   "metadata": {},
   "source": [
    "# 1. Подготовка данных"
   ]
  },
  {
   "cell_type": "markdown",
   "metadata": {},
   "source": [
    "### 1.1. Чтение данных"
   ]
  },
  {
   "cell_type": "code",
   "execution_count": 1,
   "metadata": {},
   "outputs": [],
   "source": [
    "import pandas as pd\n",
    "import matplotlib.pyplot as plt\n",
    "import seaborn as sns\n",
    "from sklearn.model_selection import train_test_split\n",
    "from sklearn.tree import DecisionTreeClassifier\n",
    "from sklearn.linear_model import LogisticRegression\n",
    "from sklearn.ensemble import RandomForestClassifier\n",
    "from sklearn.metrics import f1_score, roc_auc_score, roc_curve\n",
    "from sklearn.model_selection import RandomizedSearchCV\n",
    "from sklearn.preprocessing import StandardScaler\n",
    "from sklearn.utils import shuffle\n",
    "import numpy as np\n",
    "import warnings\n",
    "warnings.filterwarnings('ignore')"
   ]
  },
  {
   "cell_type": "code",
   "execution_count": 2,
   "metadata": {},
   "outputs": [
    {
     "data": {
      "text/html": [
       "<div>\n",
       "<style scoped>\n",
       "    .dataframe tbody tr th:only-of-type {\n",
       "        vertical-align: middle;\n",
       "    }\n",
       "\n",
       "    .dataframe tbody tr th {\n",
       "        vertical-align: top;\n",
       "    }\n",
       "\n",
       "    .dataframe thead th {\n",
       "        text-align: right;\n",
       "    }\n",
       "</style>\n",
       "<table border=\"1\" class=\"dataframe\">\n",
       "  <thead>\n",
       "    <tr style=\"text-align: right;\">\n",
       "      <th></th>\n",
       "      <th>RowNumber</th>\n",
       "      <th>CustomerId</th>\n",
       "      <th>Surname</th>\n",
       "      <th>CreditScore</th>\n",
       "      <th>Geography</th>\n",
       "      <th>Gender</th>\n",
       "      <th>Age</th>\n",
       "      <th>Tenure</th>\n",
       "      <th>Balance</th>\n",
       "      <th>NumOfProducts</th>\n",
       "      <th>HasCrCard</th>\n",
       "      <th>IsActiveMember</th>\n",
       "      <th>EstimatedSalary</th>\n",
       "      <th>Exited</th>\n",
       "    </tr>\n",
       "  </thead>\n",
       "  <tbody>\n",
       "    <tr>\n",
       "      <td>0</td>\n",
       "      <td>1</td>\n",
       "      <td>15634602</td>\n",
       "      <td>Hargrave</td>\n",
       "      <td>619</td>\n",
       "      <td>France</td>\n",
       "      <td>Female</td>\n",
       "      <td>42</td>\n",
       "      <td>2.0</td>\n",
       "      <td>0.00</td>\n",
       "      <td>1</td>\n",
       "      <td>1</td>\n",
       "      <td>1</td>\n",
       "      <td>101348.88</td>\n",
       "      <td>1</td>\n",
       "    </tr>\n",
       "    <tr>\n",
       "      <td>1</td>\n",
       "      <td>2</td>\n",
       "      <td>15647311</td>\n",
       "      <td>Hill</td>\n",
       "      <td>608</td>\n",
       "      <td>Spain</td>\n",
       "      <td>Female</td>\n",
       "      <td>41</td>\n",
       "      <td>1.0</td>\n",
       "      <td>83807.86</td>\n",
       "      <td>1</td>\n",
       "      <td>0</td>\n",
       "      <td>1</td>\n",
       "      <td>112542.58</td>\n",
       "      <td>0</td>\n",
       "    </tr>\n",
       "    <tr>\n",
       "      <td>2</td>\n",
       "      <td>3</td>\n",
       "      <td>15619304</td>\n",
       "      <td>Onio</td>\n",
       "      <td>502</td>\n",
       "      <td>France</td>\n",
       "      <td>Female</td>\n",
       "      <td>42</td>\n",
       "      <td>8.0</td>\n",
       "      <td>159660.80</td>\n",
       "      <td>3</td>\n",
       "      <td>1</td>\n",
       "      <td>0</td>\n",
       "      <td>113931.57</td>\n",
       "      <td>1</td>\n",
       "    </tr>\n",
       "    <tr>\n",
       "      <td>3</td>\n",
       "      <td>4</td>\n",
       "      <td>15701354</td>\n",
       "      <td>Boni</td>\n",
       "      <td>699</td>\n",
       "      <td>France</td>\n",
       "      <td>Female</td>\n",
       "      <td>39</td>\n",
       "      <td>1.0</td>\n",
       "      <td>0.00</td>\n",
       "      <td>2</td>\n",
       "      <td>0</td>\n",
       "      <td>0</td>\n",
       "      <td>93826.63</td>\n",
       "      <td>0</td>\n",
       "    </tr>\n",
       "    <tr>\n",
       "      <td>4</td>\n",
       "      <td>5</td>\n",
       "      <td>15737888</td>\n",
       "      <td>Mitchell</td>\n",
       "      <td>850</td>\n",
       "      <td>Spain</td>\n",
       "      <td>Female</td>\n",
       "      <td>43</td>\n",
       "      <td>2.0</td>\n",
       "      <td>125510.82</td>\n",
       "      <td>1</td>\n",
       "      <td>1</td>\n",
       "      <td>1</td>\n",
       "      <td>79084.10</td>\n",
       "      <td>0</td>\n",
       "    </tr>\n",
       "  </tbody>\n",
       "</table>\n",
       "</div>"
      ],
      "text/plain": [
       "   RowNumber  CustomerId   Surname  CreditScore Geography  Gender  Age  \\\n",
       "0          1    15634602  Hargrave          619    France  Female   42   \n",
       "1          2    15647311      Hill          608     Spain  Female   41   \n",
       "2          3    15619304      Onio          502    France  Female   42   \n",
       "3          4    15701354      Boni          699    France  Female   39   \n",
       "4          5    15737888  Mitchell          850     Spain  Female   43   \n",
       "\n",
       "   Tenure    Balance  NumOfProducts  HasCrCard  IsActiveMember  \\\n",
       "0     2.0       0.00              1          1               1   \n",
       "1     1.0   83807.86              1          0               1   \n",
       "2     8.0  159660.80              3          1               0   \n",
       "3     1.0       0.00              2          0               0   \n",
       "4     2.0  125510.82              1          1               1   \n",
       "\n",
       "   EstimatedSalary  Exited  \n",
       "0        101348.88       1  \n",
       "1        112542.58       0  \n",
       "2        113931.57       1  \n",
       "3         93826.63       0  \n",
       "4         79084.10       0  "
      ]
     },
     "execution_count": 2,
     "metadata": {},
     "output_type": "execute_result"
    }
   ],
   "source": [
    "# прочитаем данные\n",
    "users = pd.read_csv('Churn.csv')\n",
    "users.head()"
   ]
  },
  {
   "cell_type": "code",
   "execution_count": 3,
   "metadata": {},
   "outputs": [
    {
     "name": "stdout",
     "output_type": "stream",
     "text": [
      "<class 'pandas.core.frame.DataFrame'>\n",
      "RangeIndex: 10000 entries, 0 to 9999\n",
      "Data columns (total 14 columns):\n",
      "RowNumber          10000 non-null int64\n",
      "CustomerId         10000 non-null int64\n",
      "Surname            10000 non-null object\n",
      "CreditScore        10000 non-null int64\n",
      "Geography          10000 non-null object\n",
      "Gender             10000 non-null object\n",
      "Age                10000 non-null int64\n",
      "Tenure             9091 non-null float64\n",
      "Balance            10000 non-null float64\n",
      "NumOfProducts      10000 non-null int64\n",
      "HasCrCard          10000 non-null int64\n",
      "IsActiveMember     10000 non-null int64\n",
      "EstimatedSalary    10000 non-null float64\n",
      "Exited             10000 non-null int64\n",
      "dtypes: float64(3), int64(8), object(3)\n",
      "memory usage: 1.1+ MB\n"
     ]
    }
   ],
   "source": [
    "users.info()"
   ]
  },
  {
   "cell_type": "markdown",
   "metadata": {},
   "source": [
    "У 10% клиентов нет значения признака Tenure. Разберемся с этим далее."
   ]
  },
  {
   "cell_type": "code",
   "execution_count": 4,
   "metadata": {},
   "outputs": [
    {
     "data": {
      "text/html": [
       "<div>\n",
       "<style scoped>\n",
       "    .dataframe tbody tr th:only-of-type {\n",
       "        vertical-align: middle;\n",
       "    }\n",
       "\n",
       "    .dataframe tbody tr th {\n",
       "        vertical-align: top;\n",
       "    }\n",
       "\n",
       "    .dataframe thead th {\n",
       "        text-align: right;\n",
       "    }\n",
       "</style>\n",
       "<table border=\"1\" class=\"dataframe\">\n",
       "  <thead>\n",
       "    <tr style=\"text-align: right;\">\n",
       "      <th></th>\n",
       "      <th>RowNumber</th>\n",
       "      <th>CustomerId</th>\n",
       "      <th>Surname</th>\n",
       "      <th>CreditScore</th>\n",
       "      <th>Geography</th>\n",
       "      <th>Gender</th>\n",
       "      <th>Age</th>\n",
       "      <th>Tenure</th>\n",
       "      <th>Balance</th>\n",
       "      <th>NumOfProducts</th>\n",
       "      <th>HasCrCard</th>\n",
       "      <th>IsActiveMember</th>\n",
       "      <th>EstimatedSalary</th>\n",
       "      <th>Exited</th>\n",
       "    </tr>\n",
       "  </thead>\n",
       "  <tbody>\n",
       "  </tbody>\n",
       "</table>\n",
       "</div>"
      ],
      "text/plain": [
       "Empty DataFrame\n",
       "Columns: [RowNumber, CustomerId, Surname, CreditScore, Geography, Gender, Age, Tenure, Balance, NumOfProducts, HasCrCard, IsActiveMember, EstimatedSalary, Exited]\n",
       "Index: []"
      ]
     },
     "execution_count": 4,
     "metadata": {},
     "output_type": "execute_result"
    }
   ],
   "source": [
    "# проверим, есть ли полные дубликаты\n",
    "users[users.duplicated()]"
   ]
  },
  {
   "cell_type": "code",
   "execution_count": 5,
   "metadata": {},
   "outputs": [
    {
     "data": {
      "text/html": [
       "<div>\n",
       "<style scoped>\n",
       "    .dataframe tbody tr th:only-of-type {\n",
       "        vertical-align: middle;\n",
       "    }\n",
       "\n",
       "    .dataframe tbody tr th {\n",
       "        vertical-align: top;\n",
       "    }\n",
       "\n",
       "    .dataframe thead th {\n",
       "        text-align: right;\n",
       "    }\n",
       "</style>\n",
       "<table border=\"1\" class=\"dataframe\">\n",
       "  <thead>\n",
       "    <tr style=\"text-align: right;\">\n",
       "      <th></th>\n",
       "      <th>RowNumber</th>\n",
       "      <th>CustomerId</th>\n",
       "      <th>Surname</th>\n",
       "      <th>CreditScore</th>\n",
       "      <th>Geography</th>\n",
       "      <th>Gender</th>\n",
       "      <th>Age</th>\n",
       "      <th>Tenure</th>\n",
       "      <th>Balance</th>\n",
       "      <th>NumOfProducts</th>\n",
       "      <th>HasCrCard</th>\n",
       "      <th>IsActiveMember</th>\n",
       "      <th>EstimatedSalary</th>\n",
       "      <th>Exited</th>\n",
       "    </tr>\n",
       "  </thead>\n",
       "  <tbody>\n",
       "  </tbody>\n",
       "</table>\n",
       "</div>"
      ],
      "text/plain": [
       "Empty DataFrame\n",
       "Columns: [RowNumber, CustomerId, Surname, CreditScore, Geography, Gender, Age, Tenure, Balance, NumOfProducts, HasCrCard, IsActiveMember, EstimatedSalary, Exited]\n",
       "Index: []"
      ]
     },
     "execution_count": 5,
     "metadata": {},
     "output_type": "execute_result"
    }
   ],
   "source": [
    "# на всякий случай проверим, есть ли дубликаты по клиенту\n",
    "users[users.duplicated(['CustomerId'])] "
   ]
  },
  {
   "cell_type": "code",
   "execution_count": 6,
   "metadata": {
    "scrolled": true
   },
   "outputs": [
    {
     "data": {
      "text/html": [
       "<div>\n",
       "<style scoped>\n",
       "    .dataframe tbody tr th:only-of-type {\n",
       "        vertical-align: middle;\n",
       "    }\n",
       "\n",
       "    .dataframe tbody tr th {\n",
       "        vertical-align: top;\n",
       "    }\n",
       "\n",
       "    .dataframe thead th {\n",
       "        text-align: right;\n",
       "    }\n",
       "</style>\n",
       "<table border=\"1\" class=\"dataframe\">\n",
       "  <thead>\n",
       "    <tr style=\"text-align: right;\">\n",
       "      <th></th>\n",
       "      <th>CreditScore</th>\n",
       "      <th>Geography</th>\n",
       "      <th>Gender</th>\n",
       "      <th>Age</th>\n",
       "      <th>Tenure</th>\n",
       "      <th>Balance</th>\n",
       "      <th>NumOfProducts</th>\n",
       "      <th>HasCrCard</th>\n",
       "      <th>IsActiveMember</th>\n",
       "      <th>EstimatedSalary</th>\n",
       "      <th>Exited</th>\n",
       "    </tr>\n",
       "  </thead>\n",
       "  <tbody>\n",
       "    <tr>\n",
       "      <td>0</td>\n",
       "      <td>619</td>\n",
       "      <td>France</td>\n",
       "      <td>Female</td>\n",
       "      <td>42</td>\n",
       "      <td>2.0</td>\n",
       "      <td>0.00</td>\n",
       "      <td>1</td>\n",
       "      <td>1</td>\n",
       "      <td>1</td>\n",
       "      <td>101348.88</td>\n",
       "      <td>1</td>\n",
       "    </tr>\n",
       "    <tr>\n",
       "      <td>1</td>\n",
       "      <td>608</td>\n",
       "      <td>Spain</td>\n",
       "      <td>Female</td>\n",
       "      <td>41</td>\n",
       "      <td>1.0</td>\n",
       "      <td>83807.86</td>\n",
       "      <td>1</td>\n",
       "      <td>0</td>\n",
       "      <td>1</td>\n",
       "      <td>112542.58</td>\n",
       "      <td>0</td>\n",
       "    </tr>\n",
       "    <tr>\n",
       "      <td>2</td>\n",
       "      <td>502</td>\n",
       "      <td>France</td>\n",
       "      <td>Female</td>\n",
       "      <td>42</td>\n",
       "      <td>8.0</td>\n",
       "      <td>159660.80</td>\n",
       "      <td>3</td>\n",
       "      <td>1</td>\n",
       "      <td>0</td>\n",
       "      <td>113931.57</td>\n",
       "      <td>1</td>\n",
       "    </tr>\n",
       "    <tr>\n",
       "      <td>3</td>\n",
       "      <td>699</td>\n",
       "      <td>France</td>\n",
       "      <td>Female</td>\n",
       "      <td>39</td>\n",
       "      <td>1.0</td>\n",
       "      <td>0.00</td>\n",
       "      <td>2</td>\n",
       "      <td>0</td>\n",
       "      <td>0</td>\n",
       "      <td>93826.63</td>\n",
       "      <td>0</td>\n",
       "    </tr>\n",
       "    <tr>\n",
       "      <td>4</td>\n",
       "      <td>850</td>\n",
       "      <td>Spain</td>\n",
       "      <td>Female</td>\n",
       "      <td>43</td>\n",
       "      <td>2.0</td>\n",
       "      <td>125510.82</td>\n",
       "      <td>1</td>\n",
       "      <td>1</td>\n",
       "      <td>1</td>\n",
       "      <td>79084.10</td>\n",
       "      <td>0</td>\n",
       "    </tr>\n",
       "  </tbody>\n",
       "</table>\n",
       "</div>"
      ],
      "text/plain": [
       "   CreditScore Geography  Gender  Age  Tenure    Balance  NumOfProducts  \\\n",
       "0          619    France  Female   42     2.0       0.00              1   \n",
       "1          608     Spain  Female   41     1.0   83807.86              1   \n",
       "2          502    France  Female   42     8.0  159660.80              3   \n",
       "3          699    France  Female   39     1.0       0.00              2   \n",
       "4          850     Spain  Female   43     2.0  125510.82              1   \n",
       "\n",
       "   HasCrCard  IsActiveMember  EstimatedSalary  Exited  \n",
       "0          1               1        101348.88       1  \n",
       "1          0               1        112542.58       0  \n",
       "2          1               0        113931.57       1  \n",
       "3          0               0         93826.63       0  \n",
       "4          1               1         79084.10       0  "
      ]
     },
     "execution_count": 6,
     "metadata": {},
     "output_type": "execute_result"
    }
   ],
   "source": [
    "# уберем признаки, не влиюящие на целевую переменную - имя клиента, его айди и номер строки\n",
    "users = users.drop(['CustomerId', 'Surname', 'RowNumber'], axis=1)\n",
    "users.head()"
   ]
  },
  {
   "cell_type": "markdown",
   "metadata": {},
   "source": [
    "### 1.2. Предобработка признаков"
   ]
  },
  {
   "cell_type": "code",
   "execution_count": 7,
   "metadata": {},
   "outputs": [
    {
     "data": {
      "text/html": [
       "<div>\n",
       "<style scoped>\n",
       "    .dataframe tbody tr th:only-of-type {\n",
       "        vertical-align: middle;\n",
       "    }\n",
       "\n",
       "    .dataframe tbody tr th {\n",
       "        vertical-align: top;\n",
       "    }\n",
       "\n",
       "    .dataframe thead th {\n",
       "        text-align: right;\n",
       "    }\n",
       "</style>\n",
       "<table border=\"1\" class=\"dataframe\">\n",
       "  <thead>\n",
       "    <tr style=\"text-align: right;\">\n",
       "      <th></th>\n",
       "      <th>CreditScore</th>\n",
       "      <th>Age</th>\n",
       "      <th>Tenure</th>\n",
       "      <th>Balance</th>\n",
       "      <th>NumOfProducts</th>\n",
       "      <th>HasCrCard</th>\n",
       "      <th>IsActiveMember</th>\n",
       "      <th>EstimatedSalary</th>\n",
       "      <th>Exited</th>\n",
       "      <th>Geography_Germany</th>\n",
       "      <th>Geography_Spain</th>\n",
       "      <th>Gender_Male</th>\n",
       "    </tr>\n",
       "  </thead>\n",
       "  <tbody>\n",
       "    <tr>\n",
       "      <td>0</td>\n",
       "      <td>619</td>\n",
       "      <td>42</td>\n",
       "      <td>2.0</td>\n",
       "      <td>0.00</td>\n",
       "      <td>1</td>\n",
       "      <td>1</td>\n",
       "      <td>1</td>\n",
       "      <td>101348.88</td>\n",
       "      <td>1</td>\n",
       "      <td>0</td>\n",
       "      <td>0</td>\n",
       "      <td>0</td>\n",
       "    </tr>\n",
       "    <tr>\n",
       "      <td>1</td>\n",
       "      <td>608</td>\n",
       "      <td>41</td>\n",
       "      <td>1.0</td>\n",
       "      <td>83807.86</td>\n",
       "      <td>1</td>\n",
       "      <td>0</td>\n",
       "      <td>1</td>\n",
       "      <td>112542.58</td>\n",
       "      <td>0</td>\n",
       "      <td>0</td>\n",
       "      <td>1</td>\n",
       "      <td>0</td>\n",
       "    </tr>\n",
       "    <tr>\n",
       "      <td>2</td>\n",
       "      <td>502</td>\n",
       "      <td>42</td>\n",
       "      <td>8.0</td>\n",
       "      <td>159660.80</td>\n",
       "      <td>3</td>\n",
       "      <td>1</td>\n",
       "      <td>0</td>\n",
       "      <td>113931.57</td>\n",
       "      <td>1</td>\n",
       "      <td>0</td>\n",
       "      <td>0</td>\n",
       "      <td>0</td>\n",
       "    </tr>\n",
       "    <tr>\n",
       "      <td>3</td>\n",
       "      <td>699</td>\n",
       "      <td>39</td>\n",
       "      <td>1.0</td>\n",
       "      <td>0.00</td>\n",
       "      <td>2</td>\n",
       "      <td>0</td>\n",
       "      <td>0</td>\n",
       "      <td>93826.63</td>\n",
       "      <td>0</td>\n",
       "      <td>0</td>\n",
       "      <td>0</td>\n",
       "      <td>0</td>\n",
       "    </tr>\n",
       "    <tr>\n",
       "      <td>4</td>\n",
       "      <td>850</td>\n",
       "      <td>43</td>\n",
       "      <td>2.0</td>\n",
       "      <td>125510.82</td>\n",
       "      <td>1</td>\n",
       "      <td>1</td>\n",
       "      <td>1</td>\n",
       "      <td>79084.10</td>\n",
       "      <td>0</td>\n",
       "      <td>0</td>\n",
       "      <td>1</td>\n",
       "      <td>0</td>\n",
       "    </tr>\n",
       "  </tbody>\n",
       "</table>\n",
       "</div>"
      ],
      "text/plain": [
       "   CreditScore  Age  Tenure    Balance  NumOfProducts  HasCrCard  \\\n",
       "0          619   42     2.0       0.00              1          1   \n",
       "1          608   41     1.0   83807.86              1          0   \n",
       "2          502   42     8.0  159660.80              3          1   \n",
       "3          699   39     1.0       0.00              2          0   \n",
       "4          850   43     2.0  125510.82              1          1   \n",
       "\n",
       "   IsActiveMember  EstimatedSalary  Exited  Geography_Germany  \\\n",
       "0               1        101348.88       1                  0   \n",
       "1               1        112542.58       0                  0   \n",
       "2               0        113931.57       1                  0   \n",
       "3               0         93826.63       0                  0   \n",
       "4               1         79084.10       0                  0   \n",
       "\n",
       "   Geography_Spain  Gender_Male  \n",
       "0                0            0  \n",
       "1                1            0  \n",
       "2                0            0  \n",
       "3                0            0  \n",
       "4                1            0  "
      ]
     },
     "execution_count": 7,
     "metadata": {},
     "output_type": "execute_result"
    }
   ],
   "source": [
    "# проведем one-hot-encoding\n",
    "users = pd.get_dummies(users, drop_first=True)\n",
    "users.head()"
   ]
  },
  {
   "cell_type": "code",
   "execution_count": 8,
   "metadata": {},
   "outputs": [
    {
     "data": {
      "image/png": "[encoded data removed]",
      "text/plain": [
       "<Figure size 720x432 with 2 Axes>"
      ]
     },
     "metadata": {
      "needs_background": "light"
     },
     "output_type": "display_data"
    }
   ],
   "source": [
    "# проверим мультиколлинеарность признаков\n",
    "numeric = ['CreditScore', 'Age', 'Tenure', 'Balance', 'NumOfProducts', 'EstimatedSalary']\n",
    "cm = users[numeric].corr()\n",
    "plt.figure(figsize=(10, 6))\n",
    "ax = sns.heatmap(cm, annot=True, fmt='.2f', linewidths=1, linecolor='gray', cmap=\"Greens\")\n",
    "ax.set_title('Feature correlation')\n",
    "plt.show()"
   ]
  },
  {
   "cell_type": "markdown",
   "metadata": {},
   "source": [
    "Итого: дубликатов нет, признаки практически не зависят друг от друга. Отлично."
   ]
  },
  {
   "cell_type": "code",
   "execution_count": 9,
   "metadata": {},
   "outputs": [
    {
     "data": {
      "image/png": "[encoded data removed]",
      "text/plain": [
       "<Figure size 432x288 with 1 Axes>"
      ]
     },
     "metadata": {
      "needs_background": "light"
     },
     "output_type": "display_data"
    }
   ],
   "source": [
    "users['Tenure'].hist()\n",
    "plt.xlabel('Tenure')\n",
    "plt.ylabel('Frequency')\n",
    "plt.title('Tenure distribution')\n",
    "plt.show()"
   ]
  },
  {
   "cell_type": "markdown",
   "metadata": {},
   "source": [
    "Как мы убедились выше, признак Tenure не зависит от остальных признаков, а само значение признака распределено практически равномерно от 1 до 9 (а 0 и 10 взаимно уравновешивают друг друга). Поэтому просто заполним пропуски медианным значением."
   ]
  },
  {
   "cell_type": "code",
   "execution_count": 10,
   "metadata": {},
   "outputs": [],
   "source": [
    "users['Tenure'] = users['Tenure'].fillna(users['Tenure'].median())"
   ]
  },
  {
   "cell_type": "code",
   "execution_count": 11,
   "metadata": {},
   "outputs": [
    {
     "name": "stdout",
     "output_type": "stream",
     "text": [
      "(6400, 11)\n",
      "(1600, 11)\n",
      "(2000, 11)\n"
     ]
    }
   ],
   "source": [
    "X = users.drop('Exited', axis=1) # выделим признаки\n",
    "y = users['Exited'] # выделим целевую переменную\n",
    "\n",
    "# делим наблюдения на обучающую+валидационную и тестовую выборки\n",
    "X_train_valid, X_test, y_train_valid, y_test = train_test_split(X, y, test_size=0.2, random_state=1, stratify=y)\n",
    "\n",
    "# делим наблюдения на обучающую и валидационную выборки\n",
    "X_train, X_valid, y_train, y_valid = train_test_split(X_train_valid, y_train_valid, test_size=0.2, random_state=1, stratify=y_train_valid)\n",
    "print(X_train.shape) # посмотрим на размеры выборок\n",
    "print(X_valid.shape)\n",
    "print(X_test.shape)"
   ]
  },
  {
   "cell_type": "code",
   "execution_count": 12,
   "metadata": {},
   "outputs": [],
   "source": [
    "# масштабируем значения признаков\n",
    "scaler = StandardScaler()\n",
    "scaler.fit(X_train[numeric])\n",
    "\n",
    "X_train[numeric] = scaler.transform(X_train[numeric])\n",
    "X_valid[numeric] = scaler.transform(X_valid[numeric])"
   ]
  },
  {
   "cell_type": "markdown",
   "metadata": {},
   "source": [
    "### 1.3. Исследование баланса классов."
   ]
  },
  {
   "cell_type": "markdown",
   "metadata": {},
   "source": [
    "Проверим баланс классов."
   ]
  },
  {
   "cell_type": "code",
   "execution_count": 13,
   "metadata": {},
   "outputs": [
    {
     "data": {
      "image/png": "[encoded data removed]",
      "text/plain": [
       "<Figure size 432x288 with 1 Axes>"
      ]
     },
     "metadata": {
      "needs_background": "light"
     },
     "output_type": "display_data"
    }
   ],
   "source": [
    "users['Exited'].hist()\n",
    "plt.xlabel('Exited or not')\n",
    "plt.ylabel('Quantity')\n",
    "plt.title('Баланс классов целевой переменной')\n",
    "plt.show()"
   ]
  },
  {
   "cell_type": "code",
   "execution_count": 14,
   "metadata": {},
   "outputs": [
    {
     "data": {
      "text/plain": [
       "0    7963\n",
       "1    2037\n",
       "Name: Exited, dtype: int64"
      ]
     },
     "execution_count": 14,
     "metadata": {},
     "output_type": "execute_result"
    }
   ],
   "source": [
    "users['Exited'].value_counts()"
   ]
  },
  {
   "cell_type": "markdown",
   "metadata": {},
   "source": [
    "Как видим, наблюдается заметный дисбаланс: положительных наблюдений заметно меньше, чем отрицательных."
   ]
  },
  {
   "cell_type": "markdown",
   "metadata": {},
   "source": [
    "# 2. Исследование задачи"
   ]
  },
  {
   "cell_type": "markdown",
   "metadata": {},
   "source": [
    "Создадим функцию, которая будет применять RandomizedSearchCV для DecisionTree и RandomForest и выводить целевые показатели."
   ]
  },
  {
   "cell_type": "code",
   "execution_count": 15,
   "metadata": {},
   "outputs": [],
   "source": [
    "param_tree = {'max_depth': range(5, 51, 5), 'min_samples_split': range(2, 10), 'min_samples_leaf': range(1, 10)}\n",
    "param_forest = {'n_estimators': range(10, 101, 10)}"
   ]
  },
  {
   "cell_type": "code",
   "execution_count": 16,
   "metadata": {},
   "outputs": [],
   "source": [
    "def model_with_randomizedsearchcv(model, features, target):\n",
    "    model.fit(features, target)\n",
    "    best_model = model.best_estimator_\n",
    "    predictions = best_model.predict(X_valid)\n",
    "    print('F1 = {:.3f}, а ROC-AUC = {:.3f}'.format(f1_score(y_valid, predictions), roc_auc_score(y_valid, predictions)))"
   ]
  },
  {
   "cell_type": "markdown",
   "metadata": {},
   "source": [
    "Создадим функцию, которая будет выводить целевые показатели для LogisticRegression."
   ]
  },
  {
   "cell_type": "code",
   "execution_count": 17,
   "metadata": {},
   "outputs": [],
   "source": [
    "def no_randomizedsearchcv(model, features, target):\n",
    "    model.fit(features, target)\n",
    "    predictions = model.predict(X_valid)\n",
    "    print('F1 = {:.3f}, а ROC-AUC = {:.3f}'.format(f1_score(y_valid, predictions), roc_auc_score(y_valid, predictions)))"
   ]
  },
  {
   "cell_type": "code",
   "execution_count": 18,
   "metadata": {},
   "outputs": [
    {
     "name": "stdout",
     "output_type": "stream",
     "text": [
      "DecisionTreeClassifier\n",
      "F1 = 0.561, а ROC-AUC = 0.711\n",
      "RandomForestClassifier\n",
      "F1 = 0.542, а ROC-AUC = 0.695\n",
      "LogisticRegression\n",
      "F1 = 0.307, а ROC-AUC = 0.586\n"
     ]
    }
   ],
   "source": [
    "# обучим модели на сырых данных\n",
    "print('DecisionTreeClassifier')\n",
    "model = RandomizedSearchCV(estimator = DecisionTreeClassifier(random_state=1), param_distributions = param_tree, scoring='f1', random_state=1)\n",
    "model_with_randomizedsearchcv(model, X_train, y_train)\n",
    "\n",
    "print('RandomForestClassifier')\n",
    "model = RandomizedSearchCV(estimator = RandomForestClassifier(random_state=1), param_distributions = param_forest, scoring='f1', n_iter=5, random_state=1)\n",
    "model_with_randomizedsearchcv(model, X_train, y_train)\n",
    "\n",
    "print('LogisticRegression')\n",
    "model = LogisticRegression(solver='liblinear', random_state=1)\n",
    "no_randomizedsearchcv(model, X_train, y_train)"
   ]
  },
  {
   "cell_type": "markdown",
   "metadata": {},
   "source": [
    "#### Вывод: \n",
    "\n",
    "Наши результаты не дотягивают до целевого (0.59). Попробуем далее исправить это с помощью учёта дисбаланса классов."
   ]
  },
  {
   "cell_type": "markdown",
   "metadata": {},
   "source": [
    "# 3. Борьба с дисбалансом"
   ]
  },
  {
   "cell_type": "markdown",
   "metadata": {},
   "source": [
    "Видим, что положительных ответов сильно меньше, чем отрицательных. Попробуем исправить это."
   ]
  },
  {
   "cell_type": "markdown",
   "metadata": {},
   "source": [
    "### 3.1. Взвешенные модели."
   ]
  },
  {
   "cell_type": "code",
   "execution_count": 19,
   "metadata": {},
   "outputs": [
    {
     "name": "stdout",
     "output_type": "stream",
     "text": [
      "Взвешенные модели:\n",
      "DecisionTreeClassifier\n",
      "F1 = 0.592, а ROC-AUC = 0.773\n",
      "RandomForestClassifier\n",
      "F1 = 0.548, а ROC-AUC = 0.697\n",
      "LogisticRegression\n",
      "F1 = 0.496, а ROC-AUC = 0.705\n"
     ]
    }
   ],
   "source": [
    "# сделаем модели взвешенными\n",
    "print('Взвешенные модели:')\n",
    "print('DecisionTreeClassifier')\n",
    "model = RandomizedSearchCV(estimator = DecisionTreeClassifier(random_state=1, class_weight='balanced'), param_distributions = param_tree, scoring='f1', random_state=1)\n",
    "model_with_randomizedsearchcv(model, X_train, y_train)\n",
    "\n",
    "print('RandomForestClassifier')\n",
    "model = RandomizedSearchCV(estimator = RandomForestClassifier(random_state=1, class_weight='balanced'), param_distributions = param_forest, scoring='f1', n_iter=5, random_state=1)\n",
    "model_with_randomizedsearchcv(model, X_train, y_train)\n",
    "\n",
    "print('LogisticRegression')\n",
    "model = LogisticRegression(solver='liblinear', random_state=1, class_weight='balanced')\n",
    "no_randomizedsearchcv(model, X_train, y_train)"
   ]
  },
  {
   "cell_type": "markdown",
   "metadata": {},
   "source": [
    "Применение взвешенных моделей улучшило наш результат."
   ]
  },
  {
   "cell_type": "markdown",
   "metadata": {},
   "source": [
    "### 3.2. Upsampling и downsampling."
   ]
  },
  {
   "cell_type": "code",
   "execution_count": 20,
   "metadata": {},
   "outputs": [
    {
     "name": "stdout",
     "output_type": "stream",
     "text": [
      "Увеличенная выборка:\n",
      "DecisionTreeClassifier\n",
      "F1 = 0.494, а ROC-AUC = 0.681\n",
      "RandomForestClassifier\n",
      "F1 = 0.621, а ROC-AUC = 0.752\n",
      "LogisticRegression\n",
      "F1 = 0.496, а ROC-AUC = 0.705\n"
     ]
    }
   ],
   "source": [
    "# увеличим количество положительных ответов\n",
    "def upsample(X, y, repeat):\n",
    "    X_zeros = X[y == 0]\n",
    "    X_ones = X[y == 1]\n",
    "    y_zeros = y[y == 0]\n",
    "    y_ones = y[y == 1]\n",
    "\n",
    "    X_upsampled = pd.concat([X_zeros] + [X_ones] * repeat)\n",
    "    y_upsampled = pd.concat([y_zeros] + [y_ones] * repeat)\n",
    "    \n",
    "    X_upsampled, y_upsampled = shuffle(\n",
    "        X_upsampled, y_upsampled, random_state=1)\n",
    "    \n",
    "    return X_upsampled, y_upsampled\n",
    "\n",
    "X_upsampled, y_upsampled = upsample(X_train, y_train, 10)\n",
    "\n",
    "print('Увеличенная выборка:')\n",
    "print('DecisionTreeClassifier')\n",
    "model = RandomizedSearchCV(estimator = DecisionTreeClassifier(random_state=1, class_weight='balanced'), param_distributions = param_tree, scoring='f1', random_state=1)\n",
    "model_with_randomizedsearchcv(model, X_upsampled, y_upsampled)\n",
    "\n",
    "print('RandomForestClassifier')\n",
    "model = RandomizedSearchCV(estimator = RandomForestClassifier(random_state=1, class_weight='balanced'), param_distributions = param_forest, scoring='f1', n_iter=5, random_state=1)\n",
    "model_with_randomizedsearchcv(model, X_upsampled, y_upsampled)\n",
    "\n",
    "print('LogisticRegression')\n",
    "model = LogisticRegression(solver='liblinear', random_state=1, class_weight='balanced')\n",
    "no_randomizedsearchcv(model, X_upsampled, y_upsampled)"
   ]
  },
  {
   "cell_type": "code",
   "execution_count": 21,
   "metadata": {},
   "outputs": [
    {
     "name": "stdout",
     "output_type": "stream",
     "text": [
      "Уменьшенная выборка:\n",
      "DecisionTreeClassifier\n",
      "F1 = 0.478, а ROC-AUC = 0.704\n",
      "RandomForestClassifier\n",
      "F1 = 0.484, а ROC-AUC = 0.719\n",
      "LogisticRegression\n",
      "F1 = 0.505, а ROC-AUC = 0.714\n"
     ]
    }
   ],
   "source": [
    "# уменьшим количество отрицательных ответов\n",
    "def downsample(X, y, fraction):\n",
    "    X_zeros = X[y == 0]\n",
    "    X_ones = X[y == 1]\n",
    "    y_zeros = y[y == 0]\n",
    "    y_ones = y[y == 1]\n",
    "\n",
    "    X_downsampled = pd.concat([X_zeros.sample(frac=fraction, random_state=1)] + [X_ones])\n",
    "    y_downsampled = pd.concat([y_zeros.sample(frac=fraction, random_state=1)] + [y_ones])\n",
    "    \n",
    "    X_downsampled, y_downsampled = shuffle(X_downsampled, y_downsampled, random_state=1)\n",
    "    \n",
    "    return X_downsampled, y_downsampled\n",
    "\n",
    "X_downsampled, y_downsampled = downsample(X_train, y_train, 0.1)\n",
    "\n",
    "print('Уменьшенная выборка:')\n",
    "print('DecisionTreeClassifier')\n",
    "model = RandomizedSearchCV(estimator = DecisionTreeClassifier(random_state=1, class_weight='balanced'), param_distributions = param_tree, scoring='f1', random_state=1)\n",
    "model_with_randomizedsearchcv(model, X_downsampled, y_downsampled)\n",
    "\n",
    "print('RandomForestClassifier')\n",
    "model = RandomizedSearchCV(estimator = RandomForestClassifier(random_state=1, class_weight='balanced'), param_distributions = param_forest, scoring='f1', n_iter=5, random_state=1)\n",
    "model_with_randomizedsearchcv(model, X_downsampled, y_downsampled)\n",
    "\n",
    "print('LogisticRegression')\n",
    "model = LogisticRegression(solver='liblinear', random_state=1, class_weight='balanced')\n",
    "no_randomizedsearchcv(model, X_downsampled, y_downsampled)"
   ]
  },
  {
   "cell_type": "markdown",
   "metadata": {},
   "source": [
    "### 3.3. Поиск нужного порога."
   ]
  },
  {
   "cell_type": "markdown",
   "metadata": {},
   "source": [
    "Теперь попробуем найти наиболее адекватный порог."
   ]
  },
  {
   "cell_type": "code",
   "execution_count": 22,
   "metadata": {},
   "outputs": [],
   "source": [
    "# создадим функцию для проверки порога с использованием RandomizedSearchCV для DecisionTree и RandomForest\n",
    "def model_with_randomizedsearchcv_threshold(model, features, target):\n",
    "    model.fit(features, target)\n",
    "    best_model = model.best_estimator_\n",
    "    probabilities_valid = best_model.predict_proba(X_valid)\n",
    "    probabilities_one_valid = probabilities_valid[:, 1]\n",
    "    \n",
    "    for threshold in np.arange(0.1, 0.51, 0.05):\n",
    "        predicted_valid = probabilities_one_valid > threshold\n",
    "        f1 = f1_score(y_valid, predicted_valid)\n",
    "        roc_auc = roc_auc_score(y_valid, predicted_valid)\n",
    "        print(\"Порог = {:.2f} | F1 = {:.3f}| ROC-AUC = {:.3f}\".format(threshold, f1, roc_auc))"
   ]
  },
  {
   "cell_type": "code",
   "execution_count": 23,
   "metadata": {
    "scrolled": true
   },
   "outputs": [
    {
     "name": "stdout",
     "output_type": "stream",
     "text": [
      "DecisionTreeClassifier\n",
      "Порог = 0.10 | F1 = 0.398| ROC-AUC = 0.612\n",
      "Порог = 0.15 | F1 = 0.409| ROC-AUC = 0.630\n",
      "Порог = 0.20 | F1 = 0.436| ROC-AUC = 0.667\n",
      "Порог = 0.25 | F1 = 0.436| ROC-AUC = 0.667\n",
      "Порог = 0.30 | F1 = 0.516| ROC-AUC = 0.743\n",
      "Порог = 0.35 | F1 = 0.544| ROC-AUC = 0.761\n",
      "Порог = 0.40 | F1 = 0.563| ROC-AUC = 0.769\n",
      "Порог = 0.45 | F1 = 0.576| ROC-AUC = 0.770\n",
      "Порог = 0.50 | F1 = 0.592| ROC-AUC = 0.773\n",
      "RandomForestClassifier\n",
      "Порог = 0.10 | F1 = 0.513| ROC-AUC = 0.743\n",
      "Порог = 0.15 | F1 = 0.556| ROC-AUC = 0.770\n",
      "Порог = 0.20 | F1 = 0.582| ROC-AUC = 0.768\n",
      "Порог = 0.25 | F1 = 0.595| ROC-AUC = 0.764\n",
      "Порог = 0.30 | F1 = 0.617| ROC-AUC = 0.761\n",
      "Порог = 0.35 | F1 = 0.615| ROC-AUC = 0.752\n",
      "Порог = 0.40 | F1 = 0.594| ROC-AUC = 0.730\n",
      "Порог = 0.45 | F1 = 0.573| ROC-AUC = 0.715\n",
      "Порог = 0.50 | F1 = 0.548| ROC-AUC = 0.697\n",
      "LogisticRegression\n",
      "Порог = 0.10 | F1 = 0.344| ROC-AUC = 0.512\n",
      "Порог = 0.15 | F1 = 0.357| ROC-AUC = 0.541\n",
      "Порог = 0.20 | F1 = 0.376| ROC-AUC = 0.577\n",
      "Порог = 0.25 | F1 = 0.402| ROC-AUC = 0.620\n",
      "Порог = 0.30 | F1 = 0.430| ROC-AUC = 0.658\n",
      "Порог = 0.35 | F1 = 0.449| ROC-AUC = 0.678\n",
      "Порог = 0.40 | F1 = 0.479| ROC-AUC = 0.706\n",
      "Порог = 0.45 | F1 = 0.494| ROC-AUC = 0.714\n",
      "Порог = 0.50 | F1 = 0.496| ROC-AUC = 0.705\n"
     ]
    }
   ],
   "source": [
    "print('DecisionTreeClassifier')\n",
    "model = RandomizedSearchCV(estimator = DecisionTreeClassifier(random_state=1, class_weight='balanced'), param_distributions = param_tree, scoring='f1', random_state=1)\n",
    "model_with_randomizedsearchcv_threshold(model, X_train, y_train)\n",
    "\n",
    "print('RandomForestClassifier')\n",
    "model = RandomizedSearchCV(estimator = RandomForestClassifier(random_state=1, class_weight='balanced'), param_distributions = param_forest, scoring='f1', n_iter=5, random_state=1)\n",
    "model_with_randomizedsearchcv_threshold(model, X_train, y_train)\n",
    "\n",
    "print('LogisticRegression')\n",
    "model = LogisticRegression(solver='liblinear', random_state=1, class_weight='balanced')\n",
    "model.fit(X_train, y_train)\n",
    "probabilities_valid = model.predict_proba(X_valid)\n",
    "probabilities_one_valid = probabilities_valid[:, 1]\n",
    "    \n",
    "for threshold in np.arange(0.1, 0.51, 0.05):\n",
    "    predicted_valid = probabilities_one_valid > threshold\n",
    "    f1 = f1_score(y_valid, predicted_valid)\n",
    "    roc_auc = roc_auc_score(y_valid, predicted_valid)\n",
    "    print(\"Порог = {:.2f} | F1 = {:.3f}| ROC-AUC = {:.3f}\".format(threshold, f1, roc_auc))"
   ]
  },
  {
   "cell_type": "markdown",
   "metadata": {},
   "source": [
    "Лучший результат F1 - в районе порога 0.3."
   ]
  },
  {
   "cell_type": "markdown",
   "metadata": {},
   "source": [
    "# 4. Тестирование модели"
   ]
  },
  {
   "cell_type": "code",
   "execution_count": 24,
   "metadata": {},
   "outputs": [],
   "source": [
    "# масштабируем данные\n",
    "scaler = StandardScaler()\n",
    "scaler.fit(X_train_valid[numeric])\n",
    "\n",
    "X_train_valid[numeric] = scaler.transform(X_train_valid[numeric])\n",
    "X_test[numeric] = scaler.transform(X_test[numeric])"
   ]
  },
  {
   "cell_type": "markdown",
   "metadata": {},
   "source": [
    "Создадим итоговую модель, используя наши лучшие наработки:\n",
    "- RandomForestCLassifier как показавшую сравнительно лучший результат\n",
    "- RandomizedSearchCV\n",
    "- class_weight='balanced'\n",
    "- порог около 0.3"
   ]
  },
  {
   "cell_type": "markdown",
   "metadata": {},
   "source": [
    "1. Соберем модель с оптимальными параметрами и обучим ее на train."
   ]
  },
  {
   "cell_type": "code",
   "execution_count": 29,
   "metadata": {},
   "outputs": [
    {
     "name": "stdout",
     "output_type": "stream",
     "text": [
      "F1 модели RandomForestClassifier с порогом 0.3 - 0.617, а ROC-AUC - 0.761\n"
     ]
    }
   ],
   "source": [
    "# используем RandomizedSearchCV для RandomForestClassifier\n",
    "model = RandomizedSearchCV(estimator = RandomForestClassifier(random_state=1, class_weight='balanced'), param_distributions = param_forest, scoring='f1', n_iter=5, random_state=1)\n",
    "\n",
    "model.fit(X_train, y_train)\n",
    "best_model = model.best_estimator_\n",
    "# подсчитаем вероятности\n",
    "probabilities_valid = best_model.predict_proba(X_valid)\n",
    "probabilities_one_valid = probabilities_valid[:, 1]\n",
    "# классифицируем вероятности с учётом порога\n",
    "predicted_valid = probabilities_one_valid > 0.3\n",
    "print('F1 модели RandomForestClassifier с порогом 0.3 - {:.3f}, а ROC-AUC - {:.3f}'.format(f1_score(y_valid, predicted_valid), roc_auc_score(y_valid, predicted_valid)))"
   ]
  },
  {
   "cell_type": "markdown",
   "metadata": {},
   "source": [
    "2. Результат удовлетворительный. Переобучим ту же самую модель на train+valid и проверим на test."
   ]
  },
  {
   "cell_type": "code",
   "execution_count": 30,
   "metadata": {},
   "outputs": [
    {
     "name": "stdout",
     "output_type": "stream",
     "text": [
      "F1 модели RandomForestClassifier с порогом 0.3 - 0.601, а ROC-AUC - 0.753\n"
     ]
    }
   ],
   "source": [
    "X_train_and_valid = pd.concat([X_train] + [X_valid])\n",
    "y_train_and_valid = pd.concat([y_train] + [y_valid])\n",
    "\n",
    "best_model.fit(X_train_and_valid, y_train_and_valid)\n",
    "\n",
    "# подсчитаем вероятности\n",
    "probabilities_test = best_model.predict_proba(X_test)\n",
    "probabilities_one_test = probabilities_test[:, 1]\n",
    "# классифицируем вероятности с учётом порога\n",
    "predicted_test = probabilities_one_test > 0.3\n",
    "print('F1 модели RandomForestClassifier с порогом 0.3 - {:.3f}, а ROC-AUC - {:.3f}'.format(f1_score(y_test, predicted_test), roc_auc_score(y_test, predicted_test)))"
   ]
  },
  {
   "cell_type": "markdown",
   "metadata": {},
   "source": [
    "Результат примерно такой же, модель работает удовлетворительно."
   ]
  },
  {
   "cell_type": "code",
   "execution_count": 31,
   "metadata": {},
   "outputs": [
    {
     "data": {
      "image/png": "[encoded data removed]",
      "text/plain": [
       "<Figure size 432x288 with 1 Axes>"
      ]
     },
     "metadata": {
      "needs_background": "light"
     },
     "output_type": "display_data"
    }
   ],
   "source": [
    "# построим график нашей roc-кривой итоговой \"базовой\" модели\n",
    "fpr, tpr, thresholds = roc_curve(y_test, probabilities_one_test)\n",
    "plt.figure()\n",
    "plt.plot(fpr, tpr)\n",
    "\n",
    "# ROC-кривая случайной модели \n",
    "plt.plot([0, 1], [0, 1], linestyle='--')\n",
    "plt.xlim([0.0, 1.0])\n",
    "plt.ylim([0.0, 1.0])\n",
    "plt.xlabel('False Positive Rate')\n",
    "plt.ylabel('True Positive Rate')\n",
    "plt.title('ROC-кривая')\n",
    "plt.show()"
   ]
  },
  {
   "cell_type": "markdown",
   "metadata": {},
   "source": [
    "#### Вывод\n",
    "\n",
    "На тестовой выборке наша модель показывает результат F1 больше целевого, а именно - 0.61. Задача выполнена."
   ]
  },
  {
   "cell_type": "markdown",
   "metadata": {},
   "source": [
    "### Общие выводы:\n",
    "    \n",
    "В ходе работы над задачей мы:\n",
    "\n",
    "- провели предобработку данных, убедившись в отсутствии пропусков и дубликатов\n",
    "- исследовали признаки, оставив только необходимые, провели one hot encoding и проверили мультиколлинеарность\n",
    "- обнаружив дисбаланс классов, постарались смягчить его воздействие, равномерно распределив классы по выборкам, создав взвешенные модели, увеличивая количество положительных ответов в обучающей выборке и уменьшая количество отрицательных и настраивая порог классификации\n",
    "- измеряли показатели F1 и ROC-AUC у наших моделей\n",
    "- применяя вышеуказанные аспекты, построили итоговую модель, целевая метрика F1 которой превышает заданный порог (0.611 > 0.59)."
   ]
  }
 ],
 "metadata": {
  "kernelspec": {
   "display_name": "Python 3",
   "language": "python",
   "name": "python3"
  },
  "language_info": {
   "codemirror_mode": {
    "name": "ipython",
    "version": 3
   },
   "file_extension": ".py",
   "mimetype": "text/x-python",
   "name": "python",
   "nbconvert_exporter": "python",
   "pygments_lexer": "ipython3",
   "version": "3.7.4"
  },
  "toc": {
   "base_numbering": 1,
   "nav_menu": {},
   "number_sections": true,
   "sideBar": true,
   "skip_h1_title": false,
   "title_cell": "Table of Contents",
   "title_sidebar": "Contents",
   "toc_cell": false,
   "toc_position": {},
   "toc_section_display": true,
   "toc_window_display": false
  }
 },
 "nbformat": 4,
 "nbformat_minor": 2
}
