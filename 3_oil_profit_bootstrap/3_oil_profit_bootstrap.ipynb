{
 "cells": [
  {
   "cell_type": "markdown",
   "metadata": {},
   "source": [
    "# Описание проекта"
   ]
  },
  {
   "cell_type": "markdown",
   "metadata": {},
   "source": [
    "Мы работаем в добывающей компании «ГлавРосГосНефть». Нужно решить, где бурить новую скважину.\n",
    "\n",
    "Нам предоставлены пробы нефти в трёх регионах: в каждом 10 000 месторождений, где измерили качество нефти и объём её запасов. Постройте модель машинного обучения, которая поможет определить регион, где добыча принесёт наибольшую прибыль. Проанализируем возможную прибыль и риски техникой *Bootstrap.*\n",
    "\n",
    "Шаги для выбора локации:\n",
    "\n",
    "- В избранном регионе ищут месторождения, для каждого определяют значения признаков;\n",
    "- Строят модель и оценивают объём запасов;\n",
    "- Выбирают месторождения с самым высокими оценками значений. Количество месторождений зависит от бюджета компании и стоимости разработки одной скважины;\n",
    "- Прибыль равна суммарной прибыли отобранных месторождений."
   ]
  },
  {
   "cell_type": "markdown",
   "metadata": {},
   "source": [
    "# 1. Загрузка и подготовка данных"
   ]
  },
  {
   "cell_type": "code",
   "execution_count": 1,
   "metadata": {},
   "outputs": [],
   "source": [
    "import pandas as pd\n",
    "import matplotlib.pyplot as plt\n",
    "import seaborn as sns\n",
    "from sklearn.linear_model import LinearRegression\n",
    "from sklearn.model_selection import train_test_split\n",
    "from sklearn.metrics import mean_squared_error\n",
    "import numpy as np\n",
    "from scipy import stats as st"
   ]
  },
  {
   "cell_type": "code",
   "execution_count": 2,
   "metadata": {},
   "outputs": [
    {
     "data": {
      "text/html": [
       "<div>\n",
       "<style scoped>\n",
       "    .dataframe tbody tr th:only-of-type {\n",
       "        vertical-align: middle;\n",
       "    }\n",
       "\n",
       "    .dataframe tbody tr th {\n",
       "        vertical-align: top;\n",
       "    }\n",
       "\n",
       "    .dataframe thead th {\n",
       "        text-align: right;\n",
       "    }\n",
       "</style>\n",
       "<table border=\"1\" class=\"dataframe\">\n",
       "  <thead>\n",
       "    <tr style=\"text-align: right;\">\n",
       "      <th></th>\n",
       "      <th>id</th>\n",
       "      <th>f0</th>\n",
       "      <th>f1</th>\n",
       "      <th>f2</th>\n",
       "      <th>product</th>\n",
       "    </tr>\n",
       "  </thead>\n",
       "  <tbody>\n",
       "    <tr>\n",
       "      <td>0</td>\n",
       "      <td>txEyH</td>\n",
       "      <td>0.705745</td>\n",
       "      <td>-0.497823</td>\n",
       "      <td>1.221170</td>\n",
       "      <td>105.280062</td>\n",
       "    </tr>\n",
       "    <tr>\n",
       "      <td>1</td>\n",
       "      <td>2acmU</td>\n",
       "      <td>1.334711</td>\n",
       "      <td>-0.340164</td>\n",
       "      <td>4.365080</td>\n",
       "      <td>73.037750</td>\n",
       "    </tr>\n",
       "    <tr>\n",
       "      <td>2</td>\n",
       "      <td>409Wp</td>\n",
       "      <td>1.022732</td>\n",
       "      <td>0.151990</td>\n",
       "      <td>1.419926</td>\n",
       "      <td>85.265647</td>\n",
       "    </tr>\n",
       "    <tr>\n",
       "      <td>3</td>\n",
       "      <td>iJLyR</td>\n",
       "      <td>-0.032172</td>\n",
       "      <td>0.139033</td>\n",
       "      <td>2.978566</td>\n",
       "      <td>168.620776</td>\n",
       "    </tr>\n",
       "    <tr>\n",
       "      <td>4</td>\n",
       "      <td>Xdl7t</td>\n",
       "      <td>1.988431</td>\n",
       "      <td>0.155413</td>\n",
       "      <td>4.751769</td>\n",
       "      <td>154.036647</td>\n",
       "    </tr>\n",
       "  </tbody>\n",
       "</table>\n",
       "</div>"
      ],
      "text/plain": [
       "      id        f0        f1        f2     product\n",
       "0  txEyH  0.705745 -0.497823  1.221170  105.280062\n",
       "1  2acmU  1.334711 -0.340164  4.365080   73.037750\n",
       "2  409Wp  1.022732  0.151990  1.419926   85.265647\n",
       "3  iJLyR -0.032172  0.139033  2.978566  168.620776\n",
       "4  Xdl7t  1.988431  0.155413  4.751769  154.036647"
      ]
     },
     "execution_count": 2,
     "metadata": {},
     "output_type": "execute_result"
    }
   ],
   "source": [
    "# прочитаем данные\n",
    "geo0 = pd.read_csv('/datasets/geo_data_0.csv')\n",
    "geo1 = pd.read_csv('/datasets/geo_data_1.csv')\n",
    "geo2 = pd.read_csv('/datasets/geo_data_2.csv')\n",
    "# предполагая, что датасеты аналогичны, проведем предобработку на примере geo0\n",
    "geo0.head()"
   ]
  },
  {
   "cell_type": "code",
   "execution_count": 3,
   "metadata": {},
   "outputs": [
    {
     "name": "stdout",
     "output_type": "stream",
     "text": [
      "<class 'pandas.core.frame.DataFrame'>\n",
      "RangeIndex: 100000 entries, 0 to 99999\n",
      "Data columns (total 5 columns):\n",
      "id         100000 non-null object\n",
      "f0         100000 non-null float64\n",
      "f1         100000 non-null float64\n",
      "f2         100000 non-null float64\n",
      "product    100000 non-null float64\n",
      "dtypes: float64(4), object(1)\n",
      "memory usage: 3.8+ MB\n"
     ]
    }
   ],
   "source": [
    "geo0.info()"
   ]
  },
  {
   "cell_type": "markdown",
   "metadata": {},
   "source": [
    "Пропусков нет, форматы корректные."
   ]
  },
  {
   "cell_type": "code",
   "execution_count": 4,
   "metadata": {},
   "outputs": [
    {
     "data": {
      "image/png": "[encoded data removed]",
      "text/plain": [
       "<Figure size 720x432 with 2 Axes>"
      ]
     },
     "metadata": {
      "needs_background": "light"
     },
     "output_type": "display_data"
    }
   ],
   "source": [
    "numeric = ['f0', 'f1', 'f2', 'product']\n",
    "cm = geo0[numeric].corr()\n",
    "plt.figure(figsize=(10, 6))\n",
    "ax = sns.heatmap(cm, annot=True, fmt='.2f', linewidths=1, linecolor='gray', cmap=\"Greens\")\n",
    "ax.set_title('Feature correlation')\n",
    "plt.show()"
   ]
  },
  {
   "cell_type": "markdown",
   "metadata": {},
   "source": [
    "Слишком большой мультиколлинеарности нет."
   ]
  },
  {
   "cell_type": "markdown",
   "metadata": {},
   "source": [
    "# 2. Обучение и проверка модели"
   ]
  },
  {
   "cell_type": "markdown",
   "metadata": {},
   "source": [
    "Для каждого региона обучим свою модель, предскажем объем запасов на валидационной выборке"
   ]
  },
  {
   "cell_type": "code",
   "execution_count": 5,
   "metadata": {},
   "outputs": [
    {
     "name": "stdout",
     "output_type": "stream",
     "text": [
      "Для региона 0 средние предсказанные запасы -  92.49262459838863 , RMSE -  37.74258669996437\n",
      "Для региона 1 средние предсказанные запасы -  69.12040524285558 , RMSE -  0.8943375629130564\n",
      "Для региона 2 средние предсказанные запасы -  94.9568304858529 , RMSE -  39.86671127773423\n"
     ]
    }
   ],
   "source": [
    "predict_list = []\n",
    "target_list = []\n",
    "counter = 0\n",
    "# для каждого региона обучим свою модель\n",
    "regions = [geo0, geo1, geo2]\n",
    "for i in regions:\n",
    "\n",
    "    X = i[numeric].drop('product', axis=1)\n",
    "    y = i['product']\n",
    "\n",
    "    X_train, X_valid, y_train, y_valid = train_test_split(X, y, test_size=0.25, random_state=1)\n",
    "\n",
    "    model = LinearRegression()\n",
    "    model.fit(X_train, y_train)\n",
    "    \n",
    "    # предскажем объем запасов на валидационной выборке\n",
    "    predictions = model.predict(X_valid)\n",
    "    \n",
    "    # посчитаем средний запас предсказанного сырья по региону\n",
    "    \n",
    "    mean_stock = predictions.mean()\n",
    "    \n",
    "    # подсчитаем RMSE модели\n",
    "    rmse = np.sqrt(mean_squared_error(y_valid, predictions))\n",
    "    \n",
    "    # сохраним три списка предсказаний и три списка фактических значений в отдельные списки \n",
    "    predict_list.append(predictions)\n",
    "    target_list.append(y_valid)\n",
    "    \n",
    "    print('Для региона', counter, 'средние предсказанные запасы - ', mean_stock, ', RMSE - ', rmse)\n",
    "    counter += 1"
   ]
  },
  {
   "cell_type": "markdown",
   "metadata": {},
   "source": [
    "#### Вывод\n",
    "\n",
    "Видим, что в регионе № 1 запасы заметно меньше, чем в двух других, однако показатель RMSE модели заметно лучше."
   ]
  },
  {
   "cell_type": "markdown",
   "metadata": {},
   "source": [
    "# 3. Подготовка к расчёту прибыли"
   ]
  },
  {
   "cell_type": "code",
   "execution_count": 6,
   "metadata": {},
   "outputs": [
    {
     "name": "stdout",
     "output_type": "stream",
     "text": [
      "111.11111111111111\n"
     ]
    }
   ],
   "source": [
    "# зададим бюджет на разведку\n",
    "budget = 10000000000 \n",
    "# зададим количество скважин\n",
    "amount = 200\n",
    "# зададим прибыль от тысячи баррелей\n",
    "profit_per_1k = 450000\n",
    "# подсчитаем минимальный средний запас нефти на скважине для безубыточной работы\n",
    "stock_margin = budget / (profit_per_1k*amount)\n",
    "print(stock_margin)"
   ]
  },
  {
   "cell_type": "markdown",
   "metadata": {},
   "source": [
    "#### Вывод\n",
    "\n",
    "Как видим, минимальный средний запас нефти заметно выше, чем средний по всем 3 регионам, так что нам обязательно нужно найти самые лучшие скважины."
   ]
  },
  {
   "cell_type": "markdown",
   "metadata": {},
   "source": [
    "# 4. Расчёт прибыли и рисков "
   ]
  },
  {
   "cell_type": "code",
   "execution_count": 7,
   "metadata": {},
   "outputs": [],
   "source": [
    "state = np.random.RandomState(12345)"
   ]
  },
  {
   "cell_type": "markdown",
   "metadata": {},
   "source": [
    "Зададим функцию, которая будет подсчитывать прибыль от 200 скважин с лучшими предсказаниями."
   ]
  },
  {
   "cell_type": "code",
   "execution_count": 8,
   "metadata": {},
   "outputs": [],
   "source": [
    "def profit_calculator(target, predicts):\n",
    "    predicts_sorted = predicts.sort_values(ascending=False)\n",
    "    selected = target[predicts_sorted.index][:amount]\n",
    "    return profit_per_1k * selected.sum() - budget"
   ]
  },
  {
   "cell_type": "markdown",
   "metadata": {},
   "source": [
    "Для каждого региона выберем 1000 раз по 500 скважин, для которых найдем прибыль от 200 лучших.\n",
    "Подсчитаем также доверительный интервал и вероятность убытков."
   ]
  },
  {
   "cell_type": "code",
   "execution_count": 9,
   "metadata": {},
   "outputs": [
    {
     "name": "stdout",
     "output_type": "stream",
     "text": [
      "Средняя прибыль  458100401.7997511\n",
      "Доверительный интервал  (-91938453.32589054, 1015824888.6825125)\n",
      "Вероятность убытков 4.60%\n",
      "\n",
      "Средняя прибыль  533056709.60397387\n",
      "Доверительный интервал  (99430448.401124, 973064424.8886513)\n",
      "Вероятность убытков 0.60%\n",
      "\n",
      "Средняя прибыль  411076672.55868226\n",
      "Доверительный интервал  (-138944979.6146276, 959378918.3216925)\n",
      "Вероятность убытков 7.20%\n",
      "\n"
     ]
    }
   ],
   "source": [
    "for i in [0, 1, 2]:   \n",
    "    values = []\n",
    "    for j in range(1000):\n",
    "        target_subsample = target_list[i].reset_index(drop=True).sample(n=500, replace=True, random_state=state)\n",
    "        predict_subsample = pd.Series(predict_list[i])[target_subsample.index]\n",
    "        \n",
    "        values.append(profit_calculator(target_subsample, predict_subsample))\n",
    "\n",
    "    values = pd.Series(values)\n",
    "    mean_profit = values.mean()\n",
    "\n",
    "    #confidence_interval = st.t.interval(0.95, len(values)-1, mean_profit, values.sem())\n",
    "    confidence_interval = (values.quantile(0.025), values.quantile(0.975))\n",
    "    \n",
    "    print('Средняя прибыль ', mean_profit)\n",
    "    print('Доверительный интервал ', confidence_interval)\n",
    "    \n",
    "    loss = values[values<0]\n",
    "    loss_prob = len(loss)/len(values)\n",
    "    \n",
    "    print('Вероятность убытков {:.2%}'.format(loss_prob))\n",
    "    print()"
   ]
  },
  {
   "cell_type": "markdown",
   "metadata": {},
   "source": [
    "#### Вывод\n",
    "\n",
    "Как мы видим, несмотря на то, что в регионе № 1 средний предсказанный запас нефти был заметно меньше, чем в 0 и 2, разработку следует проводить именно в нём, так как только в этом регионе вероятность убытков ниже целевого уровня в 2,5%."
   ]
  },
  {
   "cell_type": "markdown",
   "metadata": {},
   "source": [
    "### Общие выводы\n",
    "\n",
    "В ходе работы над проектом мы:\n",
    "\n",
    "- предсказали при помощи линейной регрессии запасы нефти в 3 регионах, а также соответствующие средние показатели и RMSE\n",
    "- с помощью бутстрепа из 1000 выборок по 500 скважин расчитали среднюю прибыль для 200 лучших месторождений каждого региона\n",
    "- оценили 95 %-ый доверительный интервал прибыли\n",
    "- оценили вероятность убытков в каждом регионе\n",
    "- пришли к выводу, что разработку следует вести в регионе № 1, так как только в нём вероятность убытка при разработке 200 лучших скважин из 500 случайных меньше 2,5 %."
   ]
  }
 ],
 "metadata": {
  "kernelspec": {
   "display_name": "Python 3",
   "language": "python",
   "name": "python3"
  },
  "language_info": {
   "codemirror_mode": {
    "name": "ipython",
    "version": 3
   },
   "file_extension": ".py",
   "mimetype": "text/x-python",
   "name": "python",
   "nbconvert_exporter": "python",
   "pygments_lexer": "ipython3",
   "version": "3.7.4"
  },
  "toc": {
   "base_numbering": 1,
   "nav_menu": {},
   "number_sections": true,
   "sideBar": true,
   "skip_h1_title": false,
   "title_cell": "Table of Contents",
   "title_sidebar": "Contents",
   "toc_cell": false,
   "toc_position": {},
   "toc_section_display": true,
   "toc_window_display": false
  }
 },
 "nbformat": 4,
 "nbformat_minor": 2
}
